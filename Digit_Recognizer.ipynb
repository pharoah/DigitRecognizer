{
  "nbformat": 4,
  "nbformat_minor": 0,
  "metadata": {
    "kernelspec": {
      "name": "python3",
      "display_name": "Python 3"
    },
    "language_info": {
      "codemirror_mode": {
        "name": "ipython",
        "version": 3
      },
      "file_extension": ".py",
      "mimetype": "text/x-python",
      "name": "python",
      "nbconvert_exporter": "python",
      "pygments_lexer": "ipython3",
      "version": "3.7.3"
    },
    "colab": {
      "name": "Digit_Recognizer.ipynb",
      "provenance": [],
      "toc_visible": true
    },
    "accelerator": "GPU"
  },
  "cells": [
    {
      "cell_type": "markdown",
      "metadata": {
        "id": "iZxNWHjXWCaA",
        "colab_type": "text"
      },
      "source": [
        "## Digit Recognizer\n",
        "\n",
        "This model is a part of the kaggle competition (https://www.kaggle.com/c/digit-recognizer)\n",
        "\n",
        "\n",
        "### Data\n",
        "The data files train.csv and test.csv contain gray-scale images of hand-drawn digits, from zero through nine.\n",
        "\n",
        "Each image is 28 pixels in height and 28 pixels in width, for a total of 784 pixels in total. Each pixel has a single pixel-value associated with it, indicating the lightness or darkness of that pixel, with higher numbers meaning darker. This pixel-value is an integer between 0 and 255, inclusive.\n",
        "\n",
        "The training data set, (train.csv), has 785 columns. The first column, called \"label\", is the digit that was drawn by the user. The rest of the columns contain the pixel-values of the associated image.\n",
        "\n",
        "For about data at https://www.kaggle.com/c/digit-recognizer/data"
      ]
    },
    {
      "cell_type": "code",
      "metadata": {
        "id": "aLwQ8pz1WCaN",
        "colab_type": "code",
        "colab": {}
      },
      "source": [
        "#get the data\n",
        "\n",
        "import pandas as pd\n",
        "import numpy as np\n",
        "\n",
        "\n",
        "train = pd.read_csv('./train.csv', delimiter = ',')\n",
        "test = pd.read_csv('./test.csv', ',')"
      ],
      "execution_count": 0,
      "outputs": []
    },
    {
      "cell_type": "code",
      "metadata": {
        "id": "AbIjMzAAWCad",
        "colab_type": "code",
        "colab": {
          "base_uri": "https://localhost:8080/",
          "height": 256
        },
        "outputId": "47e7ae0c-3802-4984-e689-90f7096944e4"
      },
      "source": [
        "train.head()"
      ],
      "execution_count": 44,
      "outputs": [
        {
          "output_type": "execute_result",
          "data": {
            "text/html": [
              "<div>\n",
              "<style scoped>\n",
              "    .dataframe tbody tr th:only-of-type {\n",
              "        vertical-align: middle;\n",
              "    }\n",
              "\n",
              "    .dataframe tbody tr th {\n",
              "        vertical-align: top;\n",
              "    }\n",
              "\n",
              "    .dataframe thead th {\n",
              "        text-align: right;\n",
              "    }\n",
              "</style>\n",
              "<table border=\"1\" class=\"dataframe\">\n",
              "  <thead>\n",
              "    <tr style=\"text-align: right;\">\n",
              "      <th></th>\n",
              "      <th>label</th>\n",
              "      <th>pixel0</th>\n",
              "      <th>pixel1</th>\n",
              "      <th>pixel2</th>\n",
              "      <th>pixel3</th>\n",
              "      <th>pixel4</th>\n",
              "      <th>pixel5</th>\n",
              "      <th>pixel6</th>\n",
              "      <th>pixel7</th>\n",
              "      <th>pixel8</th>\n",
              "      <th>pixel9</th>\n",
              "      <th>pixel10</th>\n",
              "      <th>pixel11</th>\n",
              "      <th>pixel12</th>\n",
              "      <th>pixel13</th>\n",
              "      <th>pixel14</th>\n",
              "      <th>pixel15</th>\n",
              "      <th>pixel16</th>\n",
              "      <th>pixel17</th>\n",
              "      <th>pixel18</th>\n",
              "      <th>pixel19</th>\n",
              "      <th>pixel20</th>\n",
              "      <th>pixel21</th>\n",
              "      <th>pixel22</th>\n",
              "      <th>pixel23</th>\n",
              "      <th>pixel24</th>\n",
              "      <th>pixel25</th>\n",
              "      <th>pixel26</th>\n",
              "      <th>pixel27</th>\n",
              "      <th>pixel28</th>\n",
              "      <th>pixel29</th>\n",
              "      <th>pixel30</th>\n",
              "      <th>pixel31</th>\n",
              "      <th>pixel32</th>\n",
              "      <th>pixel33</th>\n",
              "      <th>pixel34</th>\n",
              "      <th>pixel35</th>\n",
              "      <th>pixel36</th>\n",
              "      <th>pixel37</th>\n",
              "      <th>pixel38</th>\n",
              "      <th>...</th>\n",
              "      <th>pixel744</th>\n",
              "      <th>pixel745</th>\n",
              "      <th>pixel746</th>\n",
              "      <th>pixel747</th>\n",
              "      <th>pixel748</th>\n",
              "      <th>pixel749</th>\n",
              "      <th>pixel750</th>\n",
              "      <th>pixel751</th>\n",
              "      <th>pixel752</th>\n",
              "      <th>pixel753</th>\n",
              "      <th>pixel754</th>\n",
              "      <th>pixel755</th>\n",
              "      <th>pixel756</th>\n",
              "      <th>pixel757</th>\n",
              "      <th>pixel758</th>\n",
              "      <th>pixel759</th>\n",
              "      <th>pixel760</th>\n",
              "      <th>pixel761</th>\n",
              "      <th>pixel762</th>\n",
              "      <th>pixel763</th>\n",
              "      <th>pixel764</th>\n",
              "      <th>pixel765</th>\n",
              "      <th>pixel766</th>\n",
              "      <th>pixel767</th>\n",
              "      <th>pixel768</th>\n",
              "      <th>pixel769</th>\n",
              "      <th>pixel770</th>\n",
              "      <th>pixel771</th>\n",
              "      <th>pixel772</th>\n",
              "      <th>pixel773</th>\n",
              "      <th>pixel774</th>\n",
              "      <th>pixel775</th>\n",
              "      <th>pixel776</th>\n",
              "      <th>pixel777</th>\n",
              "      <th>pixel778</th>\n",
              "      <th>pixel779</th>\n",
              "      <th>pixel780</th>\n",
              "      <th>pixel781</th>\n",
              "      <th>pixel782</th>\n",
              "      <th>pixel783</th>\n",
              "    </tr>\n",
              "  </thead>\n",
              "  <tbody>\n",
              "    <tr>\n",
              "      <th>0</th>\n",
              "      <td>1</td>\n",
              "      <td>0</td>\n",
              "      <td>0</td>\n",
              "      <td>0</td>\n",
              "      <td>0</td>\n",
              "      <td>0</td>\n",
              "      <td>0</td>\n",
              "      <td>0</td>\n",
              "      <td>0</td>\n",
              "      <td>0</td>\n",
              "      <td>0</td>\n",
              "      <td>0</td>\n",
              "      <td>0</td>\n",
              "      <td>0</td>\n",
              "      <td>0</td>\n",
              "      <td>0</td>\n",
              "      <td>0</td>\n",
              "      <td>0</td>\n",
              "      <td>0</td>\n",
              "      <td>0</td>\n",
              "      <td>0</td>\n",
              "      <td>0</td>\n",
              "      <td>0</td>\n",
              "      <td>0</td>\n",
              "      <td>0</td>\n",
              "      <td>0</td>\n",
              "      <td>0</td>\n",
              "      <td>0</td>\n",
              "      <td>0</td>\n",
              "      <td>0</td>\n",
              "      <td>0</td>\n",
              "      <td>0</td>\n",
              "      <td>0</td>\n",
              "      <td>0</td>\n",
              "      <td>0</td>\n",
              "      <td>0</td>\n",
              "      <td>0</td>\n",
              "      <td>0</td>\n",
              "      <td>0</td>\n",
              "      <td>0</td>\n",
              "      <td>...</td>\n",
              "      <td>0</td>\n",
              "      <td>0</td>\n",
              "      <td>0</td>\n",
              "      <td>0</td>\n",
              "      <td>0</td>\n",
              "      <td>0</td>\n",
              "      <td>0</td>\n",
              "      <td>0</td>\n",
              "      <td>0</td>\n",
              "      <td>0</td>\n",
              "      <td>0</td>\n",
              "      <td>0</td>\n",
              "      <td>0</td>\n",
              "      <td>0</td>\n",
              "      <td>0</td>\n",
              "      <td>0</td>\n",
              "      <td>0</td>\n",
              "      <td>0</td>\n",
              "      <td>0</td>\n",
              "      <td>0</td>\n",
              "      <td>0</td>\n",
              "      <td>0</td>\n",
              "      <td>0</td>\n",
              "      <td>0</td>\n",
              "      <td>0</td>\n",
              "      <td>0</td>\n",
              "      <td>0</td>\n",
              "      <td>0</td>\n",
              "      <td>0</td>\n",
              "      <td>0</td>\n",
              "      <td>0</td>\n",
              "      <td>0</td>\n",
              "      <td>0</td>\n",
              "      <td>0</td>\n",
              "      <td>0</td>\n",
              "      <td>0</td>\n",
              "      <td>0</td>\n",
              "      <td>0</td>\n",
              "      <td>0</td>\n",
              "      <td>0</td>\n",
              "    </tr>\n",
              "    <tr>\n",
              "      <th>1</th>\n",
              "      <td>0</td>\n",
              "      <td>0</td>\n",
              "      <td>0</td>\n",
              "      <td>0</td>\n",
              "      <td>0</td>\n",
              "      <td>0</td>\n",
              "      <td>0</td>\n",
              "      <td>0</td>\n",
              "      <td>0</td>\n",
              "      <td>0</td>\n",
              "      <td>0</td>\n",
              "      <td>0</td>\n",
              "      <td>0</td>\n",
              "      <td>0</td>\n",
              "      <td>0</td>\n",
              "      <td>0</td>\n",
              "      <td>0</td>\n",
              "      <td>0</td>\n",
              "      <td>0</td>\n",
              "      <td>0</td>\n",
              "      <td>0</td>\n",
              "      <td>0</td>\n",
              "      <td>0</td>\n",
              "      <td>0</td>\n",
              "      <td>0</td>\n",
              "      <td>0</td>\n",
              "      <td>0</td>\n",
              "      <td>0</td>\n",
              "      <td>0</td>\n",
              "      <td>0</td>\n",
              "      <td>0</td>\n",
              "      <td>0</td>\n",
              "      <td>0</td>\n",
              "      <td>0</td>\n",
              "      <td>0</td>\n",
              "      <td>0</td>\n",
              "      <td>0</td>\n",
              "      <td>0</td>\n",
              "      <td>0</td>\n",
              "      <td>0</td>\n",
              "      <td>...</td>\n",
              "      <td>0</td>\n",
              "      <td>0</td>\n",
              "      <td>0</td>\n",
              "      <td>0</td>\n",
              "      <td>0</td>\n",
              "      <td>0</td>\n",
              "      <td>0</td>\n",
              "      <td>0</td>\n",
              "      <td>0</td>\n",
              "      <td>0</td>\n",
              "      <td>0</td>\n",
              "      <td>0</td>\n",
              "      <td>0</td>\n",
              "      <td>0</td>\n",
              "      <td>0</td>\n",
              "      <td>0</td>\n",
              "      <td>0</td>\n",
              "      <td>0</td>\n",
              "      <td>0</td>\n",
              "      <td>0</td>\n",
              "      <td>0</td>\n",
              "      <td>0</td>\n",
              "      <td>0</td>\n",
              "      <td>0</td>\n",
              "      <td>0</td>\n",
              "      <td>0</td>\n",
              "      <td>0</td>\n",
              "      <td>0</td>\n",
              "      <td>0</td>\n",
              "      <td>0</td>\n",
              "      <td>0</td>\n",
              "      <td>0</td>\n",
              "      <td>0</td>\n",
              "      <td>0</td>\n",
              "      <td>0</td>\n",
              "      <td>0</td>\n",
              "      <td>0</td>\n",
              "      <td>0</td>\n",
              "      <td>0</td>\n",
              "      <td>0</td>\n",
              "    </tr>\n",
              "    <tr>\n",
              "      <th>2</th>\n",
              "      <td>1</td>\n",
              "      <td>0</td>\n",
              "      <td>0</td>\n",
              "      <td>0</td>\n",
              "      <td>0</td>\n",
              "      <td>0</td>\n",
              "      <td>0</td>\n",
              "      <td>0</td>\n",
              "      <td>0</td>\n",
              "      <td>0</td>\n",
              "      <td>0</td>\n",
              "      <td>0</td>\n",
              "      <td>0</td>\n",
              "      <td>0</td>\n",
              "      <td>0</td>\n",
              "      <td>0</td>\n",
              "      <td>0</td>\n",
              "      <td>0</td>\n",
              "      <td>0</td>\n",
              "      <td>0</td>\n",
              "      <td>0</td>\n",
              "      <td>0</td>\n",
              "      <td>0</td>\n",
              "      <td>0</td>\n",
              "      <td>0</td>\n",
              "      <td>0</td>\n",
              "      <td>0</td>\n",
              "      <td>0</td>\n",
              "      <td>0</td>\n",
              "      <td>0</td>\n",
              "      <td>0</td>\n",
              "      <td>0</td>\n",
              "      <td>0</td>\n",
              "      <td>0</td>\n",
              "      <td>0</td>\n",
              "      <td>0</td>\n",
              "      <td>0</td>\n",
              "      <td>0</td>\n",
              "      <td>0</td>\n",
              "      <td>0</td>\n",
              "      <td>...</td>\n",
              "      <td>0</td>\n",
              "      <td>0</td>\n",
              "      <td>0</td>\n",
              "      <td>0</td>\n",
              "      <td>0</td>\n",
              "      <td>0</td>\n",
              "      <td>0</td>\n",
              "      <td>0</td>\n",
              "      <td>0</td>\n",
              "      <td>0</td>\n",
              "      <td>0</td>\n",
              "      <td>0</td>\n",
              "      <td>0</td>\n",
              "      <td>0</td>\n",
              "      <td>0</td>\n",
              "      <td>0</td>\n",
              "      <td>0</td>\n",
              "      <td>0</td>\n",
              "      <td>0</td>\n",
              "      <td>0</td>\n",
              "      <td>0</td>\n",
              "      <td>0</td>\n",
              "      <td>0</td>\n",
              "      <td>0</td>\n",
              "      <td>0</td>\n",
              "      <td>0</td>\n",
              "      <td>0</td>\n",
              "      <td>0</td>\n",
              "      <td>0</td>\n",
              "      <td>0</td>\n",
              "      <td>0</td>\n",
              "      <td>0</td>\n",
              "      <td>0</td>\n",
              "      <td>0</td>\n",
              "      <td>0</td>\n",
              "      <td>0</td>\n",
              "      <td>0</td>\n",
              "      <td>0</td>\n",
              "      <td>0</td>\n",
              "      <td>0</td>\n",
              "    </tr>\n",
              "    <tr>\n",
              "      <th>3</th>\n",
              "      <td>4</td>\n",
              "      <td>0</td>\n",
              "      <td>0</td>\n",
              "      <td>0</td>\n",
              "      <td>0</td>\n",
              "      <td>0</td>\n",
              "      <td>0</td>\n",
              "      <td>0</td>\n",
              "      <td>0</td>\n",
              "      <td>0</td>\n",
              "      <td>0</td>\n",
              "      <td>0</td>\n",
              "      <td>0</td>\n",
              "      <td>0</td>\n",
              "      <td>0</td>\n",
              "      <td>0</td>\n",
              "      <td>0</td>\n",
              "      <td>0</td>\n",
              "      <td>0</td>\n",
              "      <td>0</td>\n",
              "      <td>0</td>\n",
              "      <td>0</td>\n",
              "      <td>0</td>\n",
              "      <td>0</td>\n",
              "      <td>0</td>\n",
              "      <td>0</td>\n",
              "      <td>0</td>\n",
              "      <td>0</td>\n",
              "      <td>0</td>\n",
              "      <td>0</td>\n",
              "      <td>0</td>\n",
              "      <td>0</td>\n",
              "      <td>0</td>\n",
              "      <td>0</td>\n",
              "      <td>0</td>\n",
              "      <td>0</td>\n",
              "      <td>0</td>\n",
              "      <td>0</td>\n",
              "      <td>0</td>\n",
              "      <td>0</td>\n",
              "      <td>...</td>\n",
              "      <td>0</td>\n",
              "      <td>0</td>\n",
              "      <td>0</td>\n",
              "      <td>0</td>\n",
              "      <td>0</td>\n",
              "      <td>0</td>\n",
              "      <td>0</td>\n",
              "      <td>0</td>\n",
              "      <td>0</td>\n",
              "      <td>0</td>\n",
              "      <td>0</td>\n",
              "      <td>0</td>\n",
              "      <td>0</td>\n",
              "      <td>0</td>\n",
              "      <td>0</td>\n",
              "      <td>0</td>\n",
              "      <td>0</td>\n",
              "      <td>0</td>\n",
              "      <td>0</td>\n",
              "      <td>0</td>\n",
              "      <td>0</td>\n",
              "      <td>0</td>\n",
              "      <td>0</td>\n",
              "      <td>0</td>\n",
              "      <td>0</td>\n",
              "      <td>0</td>\n",
              "      <td>0</td>\n",
              "      <td>0</td>\n",
              "      <td>0</td>\n",
              "      <td>0</td>\n",
              "      <td>0</td>\n",
              "      <td>0</td>\n",
              "      <td>0</td>\n",
              "      <td>0</td>\n",
              "      <td>0</td>\n",
              "      <td>0</td>\n",
              "      <td>0</td>\n",
              "      <td>0</td>\n",
              "      <td>0</td>\n",
              "      <td>0</td>\n",
              "    </tr>\n",
              "    <tr>\n",
              "      <th>4</th>\n",
              "      <td>0</td>\n",
              "      <td>0</td>\n",
              "      <td>0</td>\n",
              "      <td>0</td>\n",
              "      <td>0</td>\n",
              "      <td>0</td>\n",
              "      <td>0</td>\n",
              "      <td>0</td>\n",
              "      <td>0</td>\n",
              "      <td>0</td>\n",
              "      <td>0</td>\n",
              "      <td>0</td>\n",
              "      <td>0</td>\n",
              "      <td>0</td>\n",
              "      <td>0</td>\n",
              "      <td>0</td>\n",
              "      <td>0</td>\n",
              "      <td>0</td>\n",
              "      <td>0</td>\n",
              "      <td>0</td>\n",
              "      <td>0</td>\n",
              "      <td>0</td>\n",
              "      <td>0</td>\n",
              "      <td>0</td>\n",
              "      <td>0</td>\n",
              "      <td>0</td>\n",
              "      <td>0</td>\n",
              "      <td>0</td>\n",
              "      <td>0</td>\n",
              "      <td>0</td>\n",
              "      <td>0</td>\n",
              "      <td>0</td>\n",
              "      <td>0</td>\n",
              "      <td>0</td>\n",
              "      <td>0</td>\n",
              "      <td>0</td>\n",
              "      <td>0</td>\n",
              "      <td>0</td>\n",
              "      <td>0</td>\n",
              "      <td>0</td>\n",
              "      <td>...</td>\n",
              "      <td>0</td>\n",
              "      <td>0</td>\n",
              "      <td>0</td>\n",
              "      <td>0</td>\n",
              "      <td>0</td>\n",
              "      <td>0</td>\n",
              "      <td>0</td>\n",
              "      <td>0</td>\n",
              "      <td>0</td>\n",
              "      <td>0</td>\n",
              "      <td>0</td>\n",
              "      <td>0</td>\n",
              "      <td>0</td>\n",
              "      <td>0</td>\n",
              "      <td>0</td>\n",
              "      <td>0</td>\n",
              "      <td>0</td>\n",
              "      <td>0</td>\n",
              "      <td>0</td>\n",
              "      <td>0</td>\n",
              "      <td>0</td>\n",
              "      <td>0</td>\n",
              "      <td>0</td>\n",
              "      <td>0</td>\n",
              "      <td>0</td>\n",
              "      <td>0</td>\n",
              "      <td>0</td>\n",
              "      <td>0</td>\n",
              "      <td>0</td>\n",
              "      <td>0</td>\n",
              "      <td>0</td>\n",
              "      <td>0</td>\n",
              "      <td>0</td>\n",
              "      <td>0</td>\n",
              "      <td>0</td>\n",
              "      <td>0</td>\n",
              "      <td>0</td>\n",
              "      <td>0</td>\n",
              "      <td>0</td>\n",
              "      <td>0</td>\n",
              "    </tr>\n",
              "  </tbody>\n",
              "</table>\n",
              "<p>5 rows × 785 columns</p>\n",
              "</div>"
            ],
            "text/plain": [
              "   label  pixel0  pixel1  pixel2  ...  pixel780  pixel781  pixel782  pixel783\n",
              "0      1       0       0       0  ...         0         0         0         0\n",
              "1      0       0       0       0  ...         0         0         0         0\n",
              "2      1       0       0       0  ...         0         0         0         0\n",
              "3      4       0       0       0  ...         0         0         0         0\n",
              "4      0       0       0       0  ...         0         0         0         0\n",
              "\n",
              "[5 rows x 785 columns]"
            ]
          },
          "metadata": {
            "tags": []
          },
          "execution_count": 44
        }
      ]
    },
    {
      "cell_type": "code",
      "metadata": {
        "id": "3C1I29YeWCas",
        "colab_type": "code",
        "colab": {
          "base_uri": "https://localhost:8080/",
          "height": 52
        },
        "outputId": "56892cad-e76f-4fca-eebe-4f8103c2125c"
      },
      "source": [
        "print(train.shape)\n",
        "print(test.shape)"
      ],
      "execution_count": 45,
      "outputs": [
        {
          "output_type": "stream",
          "text": [
            "(42000, 785)\n",
            "(28000, 784)\n"
          ],
          "name": "stdout"
        }
      ]
    },
    {
      "cell_type": "code",
      "metadata": {
        "id": "gY-euMKBWCa2",
        "colab_type": "code",
        "colab": {
          "base_uri": "https://localhost:8080/",
          "height": 34
        },
        "outputId": "a825ef4d-3346-4324-e2fa-128c01e92eb2"
      },
      "source": [
        "train['label'][0]"
      ],
      "execution_count": 46,
      "outputs": [
        {
          "output_type": "execute_result",
          "data": {
            "text/plain": [
              "1"
            ]
          },
          "metadata": {
            "tags": []
          },
          "execution_count": 46
        }
      ]
    },
    {
      "cell_type": "code",
      "metadata": {
        "id": "_MqYRleEWCbA",
        "colab_type": "code",
        "colab": {}
      },
      "source": [
        "label_train = train['label']\n",
        "train = train.drop('label', axis=1)\n",
        "\n",
        "\n"
      ],
      "execution_count": 0,
      "outputs": []
    },
    {
      "cell_type": "code",
      "metadata": {
        "id": "QlUAR2N4ecFo",
        "colab_type": "code",
        "colab": {
          "base_uri": "https://localhost:8080/",
          "height": 286
        },
        "outputId": "c5bce5a8-ed5a-4db1-9760-66682503fcb3"
      },
      "source": [
        "#Lets visualize few images for fun.\n",
        "import matplotlib.pyplot as plt\n",
        "train_image = np.split(train.iloc[5], 28)\n",
        "plt.imshow(train_image)\n",
        "print(\"LABEL: {}\".format(label_train[5]))"
      ],
      "execution_count": 48,
      "outputs": [
        {
          "output_type": "stream",
          "text": [
            "LABEL: 0\n"
          ],
          "name": "stdout"
        },
        {
          "output_type": "display_data",
          "data": {
            "image/png": "[encoded data removed]",
            "text/plain": [
              "<Figure size 432x288 with 1 Axes>"
            ]
          },
          "metadata": {
            "tags": []
          }
        }
      ]
    },
    {
      "cell_type": "code",
      "metadata": {
        "id": "vlb-IxZRYlyz",
        "colab_type": "code",
        "colab": {}
      },
      "source": [
        "\n",
        "\n",
        "IMAGE_WIDTH, IMAGE_HEIGHT, CHANNELS = 28, 28, 1\n",
        "\n",
        "\n",
        "train = train.values.reshape(-1, IMAGE_WIDTH, IMAGE_HEIGHT, CHANNELS)\n",
        "test = test.values.reshape(-1, IMAGE_WIDTH, IMAGE_HEIGHT, CHANNELS)\n",
        "\n",
        "\n"
      ],
      "execution_count": 0,
      "outputs": []
    },
    {
      "cell_type": "code",
      "metadata": {
        "id": "7w1SGahy8sLX",
        "colab_type": "code",
        "colab": {
          "base_uri": "https://localhost:8080/",
          "height": 34
        },
        "outputId": "53716626-0959-4041-c304-85f2cb2ef4d2"
      },
      "source": [
        "test.shape"
      ],
      "execution_count": 50,
      "outputs": [
        {
          "output_type": "execute_result",
          "data": {
            "text/plain": [
              "(28000, 28, 28, 1)"
            ]
          },
          "metadata": {
            "tags": []
          },
          "execution_count": 50
        }
      ]
    },
    {
      "cell_type": "code",
      "metadata": {
        "id": "mlyvgNRhWCbU",
        "colab_type": "code",
        "colab": {}
      },
      "source": [
        "#label \n",
        "from keras.utils import to_categorical\n",
        "from sklearn.model_selection import train_test_split\n",
        "\n",
        "label_train = to_categorical(label_train)\n",
        "\n",
        "\n",
        "x_train, x_validation, y_train, y_validation = train_test_split(train,\n",
        "                                                                      label_train,\n",
        "                                                                      test_size=0.1,\n",
        "                                                                      shuffle = True)"
      ],
      "execution_count": 0,
      "outputs": []
    },
    {
      "cell_type": "code",
      "metadata": {
        "id": "T1k1oiFFWCbc",
        "colab_type": "code",
        "colab": {}
      },
      "source": [
        "# Model\n",
        "from keras.models import Sequential\n",
        "from keras.layers import Dense, Dropout, Flatten, Conv2D, MaxPool2D\n",
        "\n",
        "model = Sequential()\n",
        "model.add(Conv2D(filters=32,\n",
        "                 kernel_size=(5,5),\n",
        "                 padding='Same', \n",
        "                 activation='relu',\n",
        "                 input_shape=(IMAGE_WIDTH, IMAGE_HEIGHT, CHANNELS)))\n",
        "model.add(Conv2D(filters=32,\n",
        "                 kernel_size=(5,5),\n",
        "                 padding='Same', \n",
        "                 activation='relu'))\n",
        "model.add(MaxPool2D(pool_size=(2,2)))\n",
        "model.add(Dropout(0.5))\n",
        "model.add(Conv2D(filters=64, kernel_size=(3,3),padding='Same', \n",
        "                 activation='relu'))\n",
        "model.add(Conv2D(filters=64, kernel_size=(3,3),padding='Same', \n",
        "                 activation='relu'))\n",
        "model.add(MaxPool2D(pool_size=(2,2), strides=(2,2)))\n",
        "model.add(Dropout(0.5))\n",
        "model.add(Flatten())\n",
        "model.add(Dense(512, activation='relu'))\n",
        "model.add(Dropout(0.5))\n",
        "model.add(Dense(128, activation='relu'))\n",
        "model.add(Dropout(0.5))\n",
        "model.add(Dense(10, activation=\"softmax\"))\n",
        "\n",
        "model.compile(optimizer='adam', loss = 'categorical_crossentropy', metrics=['acc'])\n"
      ],
      "execution_count": 0,
      "outputs": []
    },
    {
      "cell_type": "code",
      "metadata": {
        "id": "_QnyfwI7fmji",
        "colab_type": "code",
        "colab": {}
      },
      "source": [
        "#Augmentation\n",
        "from keras.preprocessing.image import ImageDataGenerator\n",
        "data_generator = ImageDataGenerator(rescale=1./255,\n",
        "                                    rotation_range=1,\n",
        "                                    zoom_range=0.1, \n",
        "                                    width_shift_range=0.05,\n",
        "                                    height_shift_range=0.05)\n",
        "\n",
        "\n",
        "data_generator.fit(x_train)"
      ],
      "execution_count": 0,
      "outputs": []
    },
    {
      "cell_type": "code",
      "metadata": {
        "id": "ZNqeo8Bug4cb",
        "colab_type": "code",
        "colab": {
          "base_uri": "https://localhost:8080/",
          "height": 1000
        },
        "outputId": "6e526211-c1fb-46e1-af13-931a35e28fc9"
      },
      "source": [
        "# Training\n",
        "history = model.fit_generator(data_generator.flow(x_train,\n",
        "                                                  y_train,\n",
        "                                                  batch_size=128),\n",
        "                              epochs=50,\n",
        "                              validation_data=(x_validation, y_validation),\n",
        "                              verbose=1,\n",
        "                              steps_per_epoch=x_train.shape[0] // 128)"
      ],
      "execution_count": 54,
      "outputs": [
        {
          "output_type": "stream",
          "text": [
            "Epoch 1/50\n",
            "295/295 [==============================] - 18s 60ms/step - loss: 0.5904 - acc: 0.8041 - val_loss: 0.3609 - val_acc: 0.9774\n",
            "Epoch 2/50\n",
            "295/295 [==============================] - 16s 55ms/step - loss: 0.1701 - acc: 0.9521 - val_loss: 0.2464 - val_acc: 0.9845\n",
            "Epoch 3/50\n",
            "295/295 [==============================] - 16s 54ms/step - loss: 0.1246 - acc: 0.9653 - val_loss: 0.2536 - val_acc: 0.9840\n",
            "Epoch 4/50\n",
            "295/295 [==============================] - 16s 55ms/step - loss: 0.1026 - acc: 0.9712 - val_loss: 0.1587 - val_acc: 0.9893\n",
            "Epoch 5/50\n",
            "295/295 [==============================] - 16s 54ms/step - loss: 0.0883 - acc: 0.9751 - val_loss: 0.1611 - val_acc: 0.9900\n",
            "Epoch 6/50\n",
            "295/295 [==============================] - 16s 54ms/step - loss: 0.0819 - acc: 0.9770 - val_loss: 0.1574 - val_acc: 0.9902\n",
            "Epoch 7/50\n",
            "295/295 [==============================] - 16s 55ms/step - loss: 0.0762 - acc: 0.9780 - val_loss: 0.1266 - val_acc: 0.9921\n",
            "Epoch 8/50\n",
            "295/295 [==============================] - 16s 54ms/step - loss: 0.0673 - acc: 0.9810 - val_loss: 0.1803 - val_acc: 0.9886\n",
            "Epoch 9/50\n",
            "295/295 [==============================] - 16s 54ms/step - loss: 0.0665 - acc: 0.9817 - val_loss: 0.1256 - val_acc: 0.9921\n",
            "Epoch 10/50\n",
            "295/295 [==============================] - 16s 55ms/step - loss: 0.0633 - acc: 0.9825 - val_loss: 0.1427 - val_acc: 0.9910\n",
            "Epoch 11/50\n",
            "295/295 [==============================] - 16s 53ms/step - loss: 0.0584 - acc: 0.9838 - val_loss: 0.1204 - val_acc: 0.9924\n",
            "Epoch 12/50\n",
            "295/295 [==============================] - 16s 53ms/step - loss: 0.0593 - acc: 0.9839 - val_loss: 0.1190 - val_acc: 0.9926\n",
            "Epoch 13/50\n",
            "295/295 [==============================] - 16s 54ms/step - loss: 0.0571 - acc: 0.9843 - val_loss: 0.1627 - val_acc: 0.9893\n",
            "Epoch 14/50\n",
            "295/295 [==============================] - 16s 54ms/step - loss: 0.0532 - acc: 0.9856 - val_loss: 0.1266 - val_acc: 0.9921\n",
            "Epoch 15/50\n",
            "295/295 [==============================] - 15s 52ms/step - loss: 0.0549 - acc: 0.9849 - val_loss: 0.1327 - val_acc: 0.9917\n",
            "Epoch 16/50\n",
            "295/295 [==============================] - 16s 55ms/step - loss: 0.0495 - acc: 0.9856 - val_loss: 0.1228 - val_acc: 0.9924\n",
            "Epoch 17/50\n",
            "295/295 [==============================] - 16s 53ms/step - loss: 0.0480 - acc: 0.9867 - val_loss: 0.1687 - val_acc: 0.9890\n",
            "Epoch 18/50\n",
            "295/295 [==============================] - 16s 53ms/step - loss: 0.0492 - acc: 0.9865 - val_loss: 0.1298 - val_acc: 0.9919\n",
            "Epoch 19/50\n",
            "295/295 [==============================] - 16s 55ms/step - loss: 0.0447 - acc: 0.9877 - val_loss: 0.1441 - val_acc: 0.9910\n",
            "Epoch 20/50\n",
            "295/295 [==============================] - 16s 53ms/step - loss: 0.0485 - acc: 0.9862 - val_loss: 0.2056 - val_acc: 0.9871\n",
            "Epoch 21/50\n",
            "295/295 [==============================] - 15s 52ms/step - loss: 0.0451 - acc: 0.9882 - val_loss: 0.1229 - val_acc: 0.9924\n",
            "Epoch 22/50\n",
            "295/295 [==============================] - 16s 55ms/step - loss: 0.0416 - acc: 0.9881 - val_loss: 0.1534 - val_acc: 0.9900\n",
            "Epoch 23/50\n",
            "295/295 [==============================] - 16s 53ms/step - loss: 0.0420 - acc: 0.9882 - val_loss: 0.1493 - val_acc: 0.9905\n",
            "Epoch 24/50\n",
            "295/295 [==============================] - 16s 53ms/step - loss: 0.0419 - acc: 0.9882 - val_loss: 0.1420 - val_acc: 0.9912\n",
            "Epoch 25/50\n",
            "295/295 [==============================] - 16s 54ms/step - loss: 0.0412 - acc: 0.9889 - val_loss: 0.1297 - val_acc: 0.9917\n",
            "Epoch 26/50\n",
            "295/295 [==============================] - 16s 53ms/step - loss: 0.0410 - acc: 0.9887 - val_loss: 0.1581 - val_acc: 0.9900\n",
            "Epoch 27/50\n",
            "295/295 [==============================] - 16s 53ms/step - loss: 0.0383 - acc: 0.9890 - val_loss: 0.1494 - val_acc: 0.9907\n",
            "Epoch 28/50\n",
            "295/295 [==============================] - 16s 54ms/step - loss: 0.0396 - acc: 0.9890 - val_loss: 0.1319 - val_acc: 0.9917\n",
            "Epoch 29/50\n",
            "295/295 [==============================] - 16s 53ms/step - loss: 0.0385 - acc: 0.9889 - val_loss: 0.2047 - val_acc: 0.9871\n",
            "Epoch 30/50\n",
            "295/295 [==============================] - 15s 52ms/step - loss: 0.0375 - acc: 0.9901 - val_loss: 0.1678 - val_acc: 0.9895\n",
            "Epoch 31/50\n",
            "295/295 [==============================] - 16s 54ms/step - loss: 0.0390 - acc: 0.9887 - val_loss: 0.1472 - val_acc: 0.9907\n",
            "Epoch 32/50\n",
            "295/295 [==============================] - 15s 52ms/step - loss: 0.0381 - acc: 0.9894 - val_loss: 0.1633 - val_acc: 0.9895\n",
            "Epoch 33/50\n",
            "295/295 [==============================] - 16s 53ms/step - loss: 0.0347 - acc: 0.9896 - val_loss: 0.1444 - val_acc: 0.9910\n",
            "Epoch 34/50\n",
            "295/295 [==============================] - 16s 54ms/step - loss: 0.0375 - acc: 0.9897 - val_loss: 0.1878 - val_acc: 0.9883\n",
            "Epoch 35/50\n",
            "295/295 [==============================] - 16s 54ms/step - loss: 0.0337 - acc: 0.9901 - val_loss: 0.1631 - val_acc: 0.9898\n",
            "Epoch 36/50\n",
            "295/295 [==============================] - 15s 52ms/step - loss: 0.0352 - acc: 0.9899 - val_loss: 0.2604 - val_acc: 0.9833\n",
            "Epoch 37/50\n",
            "295/295 [==============================] - 16s 54ms/step - loss: 0.0326 - acc: 0.9910 - val_loss: 0.1932 - val_acc: 0.9874\n",
            "Epoch 38/50\n",
            "295/295 [==============================] - 16s 54ms/step - loss: 0.0379 - acc: 0.9897 - val_loss: 0.1469 - val_acc: 0.9907\n",
            "Epoch 39/50\n",
            "295/295 [==============================] - 16s 53ms/step - loss: 0.0306 - acc: 0.9915 - val_loss: 0.1457 - val_acc: 0.9907\n",
            "Epoch 40/50\n",
            "295/295 [==============================] - 16s 54ms/step - loss: 0.0338 - acc: 0.9901 - val_loss: 0.1382 - val_acc: 0.9914\n",
            "Epoch 41/50\n",
            "295/295 [==============================] - 16s 53ms/step - loss: 0.0367 - acc: 0.9900 - val_loss: 0.1866 - val_acc: 0.9883\n",
            "Epoch 42/50\n",
            "295/295 [==============================] - 15s 52ms/step - loss: 0.0332 - acc: 0.9905 - val_loss: 0.1712 - val_acc: 0.9890\n",
            "Epoch 43/50\n",
            "295/295 [==============================] - 16s 54ms/step - loss: 0.0333 - acc: 0.9903 - val_loss: 0.1271 - val_acc: 0.9917\n",
            "Epoch 44/50\n",
            "295/295 [==============================] - 15s 53ms/step - loss: 0.0355 - acc: 0.9897 - val_loss: 0.2001 - val_acc: 0.9874\n",
            "Epoch 45/50\n",
            "295/295 [==============================] - 16s 53ms/step - loss: 0.0297 - acc: 0.9918 - val_loss: 0.1594 - val_acc: 0.9900\n",
            "Epoch 46/50\n",
            "295/295 [==============================] - 16s 54ms/step - loss: 0.0331 - acc: 0.9909 - val_loss: 0.1402 - val_acc: 0.9912\n",
            "Epoch 47/50\n",
            "295/295 [==============================] - 16s 53ms/step - loss: 0.0339 - acc: 0.9903 - val_loss: 0.1523 - val_acc: 0.9902\n",
            "Epoch 48/50\n",
            "295/295 [==============================] - 16s 53ms/step - loss: 0.0311 - acc: 0.9916 - val_loss: 0.1521 - val_acc: 0.9905\n",
            "Epoch 49/50\n",
            "295/295 [==============================] - 16s 53ms/step - loss: 0.0308 - acc: 0.9908 - val_loss: 0.1850 - val_acc: 0.9879\n",
            "Epoch 50/50\n",
            "295/295 [==============================] - 15s 52ms/step - loss: 0.0299 - acc: 0.9918 - val_loss: 0.1628 - val_acc: 0.9895\n"
          ],
          "name": "stdout"
        }
      ]
    },
    {
      "cell_type": "code",
      "metadata": {
        "id": "RrcC9O5ViApP",
        "colab_type": "code",
        "colab": {
          "base_uri": "https://localhost:8080/",
          "height": 34
        },
        "outputId": "8ee462d3-a2f9-43bd-8bd8-6fd46053e78b"
      },
      "source": [
        "# serialize model to JSON\n",
        "model_json = model.to_json()\n",
        "with open(\"model_digits.json\", \"w\") as json_file:\n",
        "    json_file.write(model_json)\n",
        "# serialize weights to HDF5\n",
        "model.save_weights(\"model_digits.h5\")\n",
        "print(\"Saved model to disk\")"
      ],
      "execution_count": 55,
      "outputs": [
        {
          "output_type": "stream",
          "text": [
            "Saved model to disk\n"
          ],
          "name": "stdout"
        }
      ]
    },
    {
      "cell_type": "code",
      "metadata": {
        "id": "zc2egfh03jJa",
        "colab_type": "code",
        "colab": {}
      },
      "source": [
        "stringlist = []\n",
        "model.summary(print_fn=lambda x: stringlist.append(x))\n",
        "short_model_summary = \"\\n\".join(stringlist)\n",
        "\n",
        "with open('summary.txt','w') as s_file:\n",
        "  s_file.write(short_model_summary)\n"
      ],
      "execution_count": 0,
      "outputs": []
    },
    {
      "cell_type": "code",
      "metadata": {
        "id": "Lf0uOtECWCbl",
        "colab_type": "code",
        "colab": {
          "base_uri": "https://localhost:8080/",
          "height": 549
        },
        "outputId": "f7952f8e-a69e-4a36-a39e-ce1dd6dd7798"
      },
      "source": [
        "# Lets visualize loss and accuracy over epochs\n",
        "\n",
        "accuracy = history.history['acc']\n",
        "loss = history.history['loss']\n",
        "epochs = range(50) \n",
        "plt.plot(epochs, accuracy, label = \"Accuracy\")\n",
        "plt.xlabel(\"Epochs\")\n",
        "plt.ylabel(\"Accuracy\")\n",
        "plt.show()\n",
        "plt.plot(epochs, loss, label = \"Loss\")\n",
        "plt.xlabel(\"Epochs\")\n",
        "plt.ylabel(\"Loss\")\n",
        "plt.show()\n"
      ],
      "execution_count": 58,
      "outputs": [
        {
          "output_type": "display_data",
          "data": {
            "image/png": "[encoded data removed]",
            "text/plain": [
              "<Figure size 432x288 with 1 Axes>"
            ]
          },
          "metadata": {
            "tags": []
          }
        },
        {
          "output_type": "display_data",
          "data": {
            "image/png": "[encoded data removed]",
            "text/plain": [
              "<Figure size 432x288 with 1 Axes>"
            ]
          },
          "metadata": {
            "tags": []
          }
        }
      ]
    },
    {
      "cell_type": "markdown",
      "metadata": {
        "id": "PyvbvLTEWCbx",
        "colab_type": "text"
      },
      "source": [
        "## Comment\n",
        "\n",
        "Accuracy and Loss both seems to be converging with accuracy close to 1, and loss close to 0. We have to test it on test data."
      ]
    },
    {
      "cell_type": "code",
      "metadata": {
        "id": "Nappm_zhWCb2",
        "colab_type": "code",
        "colab": {
          "base_uri": "https://localhost:8080/",
          "height": 121
        },
        "outputId": "fbaba04c-f004-4d95-fc89-1ebb58d00074"
      },
      "source": [
        "predictions = model.predict(test)\n",
        "predictions = np.argmax(predictions,axis = 1)\n",
        "predictions = pd.Series(predictions,name=\"Label\")\n",
        "\n",
        "predictions.head()"
      ],
      "execution_count": 59,
      "outputs": [
        {
          "output_type": "execute_result",
          "data": {
            "text/plain": [
              "0    2\n",
              "1    0\n",
              "2    9\n",
              "3    0\n",
              "4    3\n",
              "Name: Label, dtype: int64"
            ]
          },
          "metadata": {
            "tags": []
          },
          "execution_count": 59
        }
      ]
    },
    {
      "cell_type": "code",
      "metadata": {
        "id": "fkx2QimPWCcL",
        "colab_type": "code",
        "colab": {}
      },
      "source": [
        "\n",
        "\n",
        "submission = pd.concat([pd.Series(range(1,28001),name = \"ImageId\"), predictions],axis = 1)\n",
        "\n",
        "submission.to_csv(\"submission.csv\",index=False)\n",
        "\n"
      ],
      "execution_count": 0,
      "outputs": []
    },
    {
      "cell_type": "code",
      "metadata": {
        "id": "YfsE0KN55WpM",
        "colab_type": "code",
        "colab": {}
      },
      "source": [
        ""
      ],
      "execution_count": 0,
      "outputs": []
    }
  ]
}